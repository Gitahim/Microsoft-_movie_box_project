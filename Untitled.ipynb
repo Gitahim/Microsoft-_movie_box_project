{
 "cells": [
  {
   "cell_type": "code",
   "execution_count": null,
   "id": "d525a016-2dcc-42f8-b714-778ff32705c1",
   "metadata": {},
   "outputs": [],
   "source": []
  }
 ],
 "metadata": {
  "kernelspec": {
   "display_name": "",
   "name": ""
  },
  "language_info": {
   "name": ""
  }
 },
 "nbformat": 4,
 "nbformat_minor": 5
}
